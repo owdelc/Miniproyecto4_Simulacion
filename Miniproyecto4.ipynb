{
  "cells": [
    {
      "cell_type": "markdown",
      "metadata": {
        "id": "fqCaOpWpq2t7"
      },
      "source": [
        "Universidad del valle de Guatemala\n",
        "\n",
        "MIRKA MONZON 18139\n",
        "OSCAR DE LEON 19298\n",
        "ANDRES QUINTO 18288\n",
        "\n",
        "Modelación y Simulación\n",
        "- MiniProyecto 4 \n",
        "\n",
        "# Ejercicio Servidores\n",
        "\n",
        "Suponga que usted está a cargo de definir la arquitectura a usar en el lanzamiento de su próxima aplicación web: C3 (sistema de contabilidad de la carreta contadora). La junta directiva le ha solicitado que encuentre el mejor servicio de hosting para el proyecto. Después de una investigación gigante, usted concluye que las mejores opciones se reducen a las siguientes dos:\n",
        "\n",
        "1. Proveedor 1 - Mountain Mega Computing: Tienen una infraestructura de servidor único, con mucha potencia de procesamiento. Ellos se enorgullecen al indicar que su servidor Enterprise puede atender hasta 100 solicitudes por segundo\n",
        "\n",
        "2. Proveedor 2 - Pizzita computing: Tienen una infraestructura de múltiples servidores (en nube). Cada servidor es medianamente potente, y en su promoción indican que se paga únicamente la cantidad de servidores que su aplicación requiera. Luego de su análisis de esta oferta, usted infiere que cada servidor tiene a lo sumo una décima parte de la potencia del servidor promocionado por Mountain Mega Computing.\n",
        "\n",
        "\n",
        "Las pruebas de estrés iniciales, y las proyecciones calculadas para los primeros dos años luego del lanzamiento, indican que su aplicación jamás excederá los 2,400 solicitudes por minuto. Una auditoría y análisis de benchmark a sistemas similares al suyo indican que las solicitudes deberían llegar como un proceso de Poisson, y que el tiempo de servicio de cada solicitud (sin importar la arquitectura de servidor usada es modelado adecuadamente por una variable aleatoria exponencial.\n",
        "\n",
        "Mañana tiene que presentar su decisión final a la junta directiva del proyecto.Como no tiene tiempo para hacer una investigación a detalle con los clientes de cada proveedor, decide creer en su promoción y hacer una simulación para concluir cuál será la mejor opción."
      ]
    },
    {
      "cell_type": "markdown",
      "metadata": {
        "id": "cEUoQ-KKs0Pa"
      },
      "source": [
        "## Tasks:\n",
        "1. Modele, simule y analice el comportamiento de ambos sistemas durante una hora de ejecución de C3, y para cada sistema responda\n",
        "\n",
        "a. ¿Cuántas solicitudes atendió cada servidor?\n",
        "\n",
        "b. ¿Cuánto tiempo estuvo cada servidor ocupado?\n",
        "\n",
        "c. ¿Cuánto tiempo estuvo cada servidor desocupado (iddle)?\n",
        "\n",
        "d. ¿Cuánto tiempo en total estuvieron las solicitudes en cola?\n",
        "\n",
        "e. En promedio ¿cuánto tiempo estuvo cada solicitud en cola?\n",
        "\n",
        "f. En promedio, ¿cuántas solicitudes estuvieron en cola cada segundo?\n",
        "\n",
        "g. ¿Cuál es el momento de la salida de la última solicitud?\n",
        "\n",
        "2. Determine empíricamente cuántos servidores se necesitaría “alquilar” en Pizzita computing para asegurar que siempre habrá al menos un servidor disponible para atender una solicitud dada (en otras palabras,una solicitud nunca tiene que esperar en cola).\n",
        "\n",
        "3. Se espera que a partir del tercer año del lanzamiento de su aplicación,la cantidad de usuarios sufra un alza,  y por tanto deberán atender como máximo 6000 solicitudes por minuto. Resuelva el inciso 1 y 2 para esta nueva configuración.\n",
        "\n",
        "4. Emita una recomendación para la junta directiva"
      ]
    },
    {
      "cell_type": "code",
      "execution_count": 122,
      "metadata": {
        "colab": {
          "base_uri": "https://localhost:8080/",
          "height": 339
        },
        "id": "msKW0YIOqujS",
        "outputId": "3128d47d-0515-4b25-d59c-50f85116a0bd"
      },
      "outputs": [],
      "source": [
        "'''\n",
        "\n",
        "UNIVERSIDAD DEL VALLE DE GUATEMALA\n",
        "MODELACION Y SIMULACION\n",
        "MIRKA MONZON 18139\n",
        "OSCAR DE LEON 19298\n",
        "ANDRES QUINTO 18288\n",
        "\n",
        "MINIPROYECTO 4 - SIMULACION SERVIDORES\n",
        "\n",
        "'''\n",
        "\n",
        "\n",
        "import numpy as np\n",
        "import random\n",
        "import math\n",
        "\n",
        "from utilities import *"
      ]
    },
    {
      "cell_type": "markdown",
      "metadata": {},
      "source": [
        "### Task 1\n"
      ]
    },
    {
      "cell_type": "markdown",
      "metadata": {},
      "source": [
        "Mountain Mega Computing"
      ]
    },
    {
      "cell_type": "code",
      "execution_count": 123,
      "metadata": {},
      "outputs": [],
      "source": [
        "#Variables\n",
        "#Generales\n",
        "tiempos = []\n",
        "tiempo = 60\n",
        "lambda_max = 2400 #Solicitudes maximas por minuto\n",
        "#Mountain mega computing\n",
        "solicitudes_MMegaComputing = 100\n",
        "servidores_MMegaComputing = 1"
      ]
    },
    {
      "cell_type": "code",
      "execution_count": 124,
      "metadata": {},
      "outputs": [],
      "source": [
        "arrival_times, departure_times, arrivals, departures, clients, next_arrival, server_dep, Queue_time, Busy_time = simulacion(tiempo, lambda_max, 1 / (solicitudes_MMegaComputing * 60), servidores_MMegaComputing)"
      ]
    },
    {
      "cell_type": "code",
      "execution_count": 125,
      "metadata": {},
      "outputs": [
        {
          "name": "stdout",
          "output_type": "stream",
          "text": [
            "Duracion en terminos de minutos-> 60\n",
            " *  Solicitudes atentidas -> 143686.0\n",
            " *  Tiempo de server ocupado -> 59.897419102680054\n",
            " *  Tiempo de server desocupado -> 0.10258089731994602\n",
            " *  Tiempo de solicitudes en cola -> 59.640457245128516\n",
            " *  Tiempo promedio de solicitudes en cola -> 0.0004150720471937512\n",
            " *  Promedio de solicitudes en cola por segundo -> 39488.35896568493\n",
            " *  Momento de la ultima salida -> 60.00058526763968\n"
          ]
        }
      ],
      "source": [
        "print('Duracion en terminos de minutos->', tiempo)\n",
        "print(' *  Solicitudes atentidas ->', departures[0])\n",
        "print(' *  Tiempo de server ocupado ->', Busy_time[0])\n",
        "print(' *  Tiempo de server desocupado ->', np.maximum(np.ones(servidores_MMegaComputing) * tiempo  - Busy_time, 0)[0])\n",
        "print(' *  Tiempo de solicitudes en cola ->', sum(Queue_time))\n",
        "print(' *  Tiempo promedio de solicitudes en cola ->', np.mean(Queue_time))\n",
        "print(' *  Promedio de solicitudes en cola por segundo ->', np.mean([1/i if i > 0 else 0 for i in Queue_time]))\n",
        "print(' *  Momento de la ultima salida ->', server_dep[-1])"
      ]
    },
    {
      "cell_type": "markdown",
      "metadata": {},
      "source": [
        "Opcion 2: Pizzita computing"
      ]
    },
    {
      "cell_type": "code",
      "execution_count": 126,
      "metadata": {},
      "outputs": [],
      "source": [
        "#Variables\n",
        "#Generales\n",
        "tiempos = []\n",
        "tiempo = 60 # minutos\n",
        "lambda_max = 2400 #Solicitudes maximas por minuto\n",
        "\n",
        "#Mountain mega computing\n",
        "solicitudes_MMegaComputing = 100\n",
        "\n",
        "#Pizzita computing\n",
        "solicitudes_Pizzita = solicitudes_MMegaComputing/10\n",
        "servidores_Pizzita = 10"
      ]
    },
    {
      "cell_type": "code",
      "execution_count": 127,
      "metadata": {},
      "outputs": [],
      "source": [
        "arrival_times, departure_times, arrivals, departures, clients, next_arrival, server_dep, Queue_time, Busy_time = simulacion(tiempo, lambda_max, (1 / (solicitudes_Pizzita * 60)), servidores_Pizzita)"
      ]
    },
    {
      "cell_type": "code",
      "execution_count": 128,
      "metadata": {},
      "outputs": [
        {
          "name": "stdout",
          "output_type": "stream",
          "text": [
            "Duracion en terminos de minutos -> 60\n",
            " * Solicitudes atentidas (143624.0) ->\n",
            "\tServer 1 -> 71810.0\n",
            "\tServer 2 -> 43219.0\n",
            "\tServer 3 -> 19635.0\n",
            "\tServer 4 -> 6687.0\n",
            "\tServer 5 -> 1826.0\n",
            "\tServer 6 -> 366.0\n",
            "\tServer 7 -> 66.0\n",
            "\tServer 8 -> 10.0\n",
            "\tServer 9 -> 4.0\n",
            "\tServer 10 -> 1.0\n",
            " * Tiempo de server ocupado ->\n",
            "\tServer 1 -> 30.02\n",
            "\tServer 2 -> 18.02\n",
            "\tServer 3 -> 8.22\n",
            "\tServer 4 -> 2.82\n",
            "\tServer 5 -> 0.75\n",
            "\tServer 6 -> 0.15\n",
            "\tServer 7 -> 0.02\n",
            "\tServer 8 -> 0.01\n",
            "\tServer 9 -> 0.0\n",
            "\tServer 10 -> 0.0\n",
            " * Tiempo de server desocupado ->\n",
            "\tServer 1 -> 30.0\n",
            "\tServer 2 -> 42.0\n",
            "\tServer 3 -> 52.0\n",
            "\tServer 4 -> 57.0\n",
            "\tServer 5 -> 59.0\n",
            "\tServer 6 -> 60.0\n",
            "\tServer 7 -> 60.0\n",
            "\tServer 8 -> 60.0\n",
            "\tServer 9 -> 60.0\n",
            "\tServer 10 -> 60.0\n",
            " * Tiempo de solicitudes en cola -> 0.0\n",
            " * Tiempo promedio de solicitudes en cola -> 0.0\n",
            " * Promedio de solicitudes en cola por segundo -> 0.0\n",
            " * Momento de la ultima salida  -> inf\n"
          ]
        }
      ],
      "source": [
        "print('Duracion en terminos de minutos ->', tiempo)\n",
        "print(' * Solicitudes atentidas (' + str(sum(departures)) + ') ->')\n",
        "for salida in range(len(departures)):\n",
        "    print('\\tServer ' + str(salida + 1) + ' -> ' + str(departures[salida]))\n",
        "\n",
        "print(' * Tiempo de server ocupado ->')\n",
        "for ocupado in range(len(Busy_time)):\n",
        "    print('\\tServer ' + str(ocupado + 1) + ' -> ' + str(np.round(Busy_time[ocupado], 2)))\n",
        "\n",
        "print(' * Tiempo de server desocupado ->')\n",
        "for s in range(len(np.ones(servidores_Pizzita))):\n",
        "    print('\\tServer ' + str(s + 1) + ' -> ' + str(np.round(np.maximum(np.ones(servidores_Pizzita) * tiempo  - Busy_time, 0)[s])))\n",
        "    \n",
        "print(' * Tiempo de solicitudes en cola ->', sum(Queue_time))\n",
        "print(' * Tiempo promedio de solicitudes en cola ->', np.mean(Queue_time))\n",
        "print(' * Promedio de solicitudes en cola por segundo ->', np.mean([1/i if i > 0 else 0 for i in Queue_time]))\n",
        "print(' * Momento de la ultima salida  ->', server_dep[-1])"
      ]
    },
    {
      "cell_type": "markdown",
      "metadata": {
        "id": "HJsp6PfSDzLo"
      },
      "source": [
        "### task 2"
      ]
    },
    {
      "cell_type": "code",
      "execution_count": 129,
      "metadata": {},
      "outputs": [
        {
          "name": "stdout",
          "output_type": "stream",
          "text": [
            "10 Cantidad de servidores valida, para que nunca tenga cola\n",
            "11 Cantidad de servidores valida, para que nunca tenga cola\n",
            "12 Cantidad de servidores valida, para que nunca tenga cola\n",
            "13 Cantidad de servidores valida, para que nunca tenga cola\n",
            "14 Cantidad de servidores valida, para que nunca tenga cola\n",
            "15 Cantidad de servidores valida, para que nunca tenga cola\n",
            "16 Cantidad de servidores valida, para que nunca tenga cola\n",
            "17 Cantidad de servidores valida, para que nunca tenga cola\n",
            "18 Cantidad de servidores valida, para que nunca tenga cola\n",
            "19 Cantidad de servidores valida, para que nunca tenga cola\n",
            "20 Cantidad de servidores valida, para que nunca tenga cola\n"
          ]
        }
      ],
      "source": [
        "#Variables\n",
        "#Generales\n",
        "tiempos = []\n",
        "tiempo = 60\n",
        "lambda_max = 2400\n",
        "\n",
        "#Mountain mega computing\n",
        "solicitudes_MMegaComputing = 100\n",
        "\n",
        "#Pizzita computing\n",
        "solicitudes_Pizzita = solicitudes_MMegaComputing/10\n",
        "servidores_Pizzita = np.arange(10, 21)\n",
        "\n",
        "for server_pizzita in servidores_Pizzita:\n",
        "    arrival_times, departure_times, arrivals, departures, clients, next_arrival, server_dep, Queue_time, Busy_time = simulacion(tiempo, lambda_max, (1 / (solicitudes_Pizzita * 60)), server_pizzita)\n",
        "\n",
        "    if sum(Queue_time) > 0.0001:\n",
        "        print(server_pizzita, 'Waiting time')\n",
        "    else:\n",
        "        print(server_pizzita, 'Cantidad de servidores valida, para que nunca tenga cola')"
      ]
    },
    {
      "cell_type": "markdown",
      "metadata": {},
      "source": [
        "Task 3 y 4"
      ]
    },
    {
      "cell_type": "markdown",
      "metadata": {},
      "source": [
        "Mountain mega computing"
      ]
    },
    {
      "cell_type": "code",
      "execution_count": 130,
      "metadata": {},
      "outputs": [],
      "source": [
        "#Variables\n",
        "#Generales\n",
        "tiempos = []\n",
        "tiempo = 60\n",
        "lambda_max = 6000\n",
        "#Mountain mega computing\n",
        "solicitudes_MMegaComputing = 100\n",
        "servidores_MMegaComputing = 1"
      ]
    },
    {
      "cell_type": "code",
      "execution_count": 131,
      "metadata": {},
      "outputs": [],
      "source": [
        "arrival_times, departure_times, arrivals, departures, clients, next_arrival, server_dep, Queue_time, Busy_time = simulacion(tiempo, lambda_max, 1 / (solicitudes_MMegaComputing * 60), servidores_MMegaComputing)"
      ]
    },
    {
      "cell_type": "code",
      "execution_count": 132,
      "metadata": {},
      "outputs": [
        {
          "name": "stdout",
          "output_type": "stream",
          "text": [
            "Duracion en terminos de minutos -> 60\n",
            " * Solicitudes atentidas -> 359418.0\n",
            " * Tiempo de server ocupado -> 59.97098636613434\n",
            " * Tiempo de server desocupado -> 0.02901363386565947\n",
            " * Tiempo de solicitudes en cola -> 59.864759887578806\n",
            " * Tiempo promedio de solicitudes en cola -> 0.0001665598087123352\n",
            " * Promedio de solicitudes en cola por segundo -> 113620.92848471188\n",
            " * Momento de la ultima salida -> 60.00015951340013\n"
          ]
        }
      ],
      "source": [
        "print('Duracion en terminos de minutos ->', tiempo)\n",
        "print(' * Solicitudes atentidas ->', departures[0])\n",
        "print(' * Tiempo de server ocupado ->', Busy_time[0])\n",
        "print(' * Tiempo de server desocupado ->', np.maximum(np.ones(servidores_MMegaComputing) * tiempo  - Busy_time, 0)[0])\n",
        "print(' * Tiempo de solicitudes en cola ->', sum(Queue_time))\n",
        "print(' * Tiempo promedio de solicitudes en cola ->', np.mean(Queue_time))\n",
        "print(' * Promedio de solicitudes en cola por segundo ->', np.mean([1/i if i > 0 else 0 for i in Queue_time]))\n",
        "print(' * Momento de la ultima salida ->', server_dep[-1])"
      ]
    },
    {
      "cell_type": "markdown",
      "metadata": {},
      "source": [
        "Pizzita computing"
      ]
    },
    {
      "cell_type": "code",
      "execution_count": 133,
      "metadata": {},
      "outputs": [],
      "source": [
        "#Variables\n",
        "#Generales\n",
        "tiempos = []\n",
        "tiempo = 60\n",
        "lambda_max = 6000\n",
        "\n",
        "#Mountain mega computing\n",
        "solicitudes_MMegaComputing = 100\n",
        "\n",
        "#Pizzita computing\n",
        "solicitudes_Pizzita = solicitudes_MMegaComputing/10\n",
        "servidores_Pizzita = 10"
      ]
    },
    {
      "cell_type": "code",
      "execution_count": 134,
      "metadata": {},
      "outputs": [],
      "source": [
        "arrival_times, departure_times, arrivals, departures, clients, next_arrival, server_dep, Queue_time, Busy_time = simulacion(tiempo, lambda_max, (1 / (solicitudes_Pizzita * 60)), servidores_Pizzita)"
      ]
    },
    {
      "cell_type": "code",
      "execution_count": 135,
      "metadata": {},
      "outputs": [
        {
          "name": "stdout",
          "output_type": "stream",
          "text": [
            "Duracion -> 60\n",
            " * Solicitudes atentidas (359692.0):\n",
            "\tServer 1 -> 179667.0\n",
            "\tServer 2 -> 107836.0\n",
            "\tServer 3 -> 49389.0\n",
            "\tServer 4 -> 17083.0\n",
            "\tServer 5 -> 4560.0\n",
            "\tServer 6 -> 966.0\n",
            "\tServer 7 -> 160.0\n",
            "\tServer 8 -> 26.0\n",
            "\tServer 9 -> 5.0\n",
            "\tServer 10 -> 0.0\n",
            " * Tiempo de server ocupado ->\n",
            "\tServer 1 -> 29.97\n",
            "\tServer 2 -> 17.99\n",
            "\tServer 3 -> 8.29\n",
            "\tServer 4 -> 2.85\n",
            "\tServer 5 -> 0.76\n",
            "\tServer 6 -> 0.16\n",
            "\tServer 7 -> 0.03\n",
            "\tServer 8 -> 0.0\n",
            "\tServer 9 -> 0.0\n",
            "\tServer 10 -> 0.0\n",
            " * Tiempo de server desocupado ->\n",
            "\tServer 1 -> 30.0\n",
            "\tServer 2 -> 42.0\n",
            "\tServer 3 -> 52.0\n",
            "\tServer 4 -> 57.0\n",
            "\tServer 5 -> 59.0\n",
            "\tServer 6 -> 60.0\n",
            "\tServer 7 -> 60.0\n",
            "\tServer 8 -> 60.0\n",
            "\tServer 9 -> 60.0\n",
            "\tServer 10 -> 60.0\n",
            " * Tiempo de solicitudes en cola -> 0.0\n",
            " * Tiempo promedio de solicitudes en cola -> 0.0\n",
            " * Promedio de solicitudes en cola por segundo -> 0.0\n",
            " * Momento de la ultima salida -> inf\n"
          ]
        }
      ],
      "source": [
        "print('Duracion ->', tiempo)\n",
        "print(' * Solicitudes atentidas (' + str(sum(departures)) + '):')\n",
        "for salida in range(len(departures)):\n",
        "    print('\\tServer ' + str(salida + 1) + ' -> ' + str(departures[salida]))\n",
        "\n",
        "print(' * Tiempo de server ocupado ->')\n",
        "for ocupado in range(len(Busy_time)):\n",
        "    print('\\tServer ' + str(ocupado + 1) + ' -> ' + str(np.round(Busy_time[ocupado], 2)))\n",
        "\n",
        "print(' * Tiempo de server desocupado ->')\n",
        "for s in range(len(np.ones(servidores_Pizzita))):\n",
        "    print('\\tServer ' + str(s + 1) + ' -> ' + str(np.round(np.maximum(np.ones(servidores_Pizzita) * tiempo  - Busy_time, 0)[s])))\n",
        "    \n",
        "print(' * Tiempo de solicitudes en cola ->', sum(Queue_time))\n",
        "print(' * Tiempo promedio de solicitudes en cola ->', np.mean(Queue_time))\n",
        "print(' * Promedio de solicitudes en cola por segundo ->', np.mean([1/i if i > 0 else 0 for i in Queue_time]))\n",
        "print(' * Momento de la ultima salida ->', server_dep[-1])"
      ]
    }
  ],
  "metadata": {
    "colab": {
      "provenance": []
    },
    "kernelspec": {
      "display_name": "Python 3.7.0 64-bit",
      "language": "python",
      "name": "python3"
    },
    "language_info": {
      "codemirror_mode": {
        "name": "ipython",
        "version": 3
      },
      "file_extension": ".py",
      "mimetype": "text/x-python",
      "name": "python",
      "nbconvert_exporter": "python",
      "pygments_lexer": "ipython3",
      "version": "3.7.0"
    },
    "vscode": {
      "interpreter": {
        "hash": "5109d816b82be14675a6b11f8e0f0d2e80f029176ed3710d54e125caa8520dfd"
      }
    }
  },
  "nbformat": 4,
  "nbformat_minor": 0
}
